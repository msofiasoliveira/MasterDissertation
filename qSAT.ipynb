{
 "cells": [
  {
   "cell_type": "markdown",
   "metadata": {},
   "source": [
    "# Quantum SAT solver"
   ]
  },
  {
   "cell_type": "code",
   "execution_count": null,
   "metadata": {},
   "outputs": [],
   "source": [
    "import numpy as np\n",
    "import math as m\n",
    "import time\n",
    "import sys\n",
    "from itertools import combinations as comb"
   ]
  },
  {
   "cell_type": "code",
   "execution_count": null,
   "metadata": {},
   "outputs": [],
   "source": [
    "from functools import partial\n",
    "from pycpd import rigid_registration"
   ]
  },
  {
   "cell_type": "markdown",
   "metadata": {},
   "source": [
    "### Data Treatment\n",
    "\n",
    "The information we initial have is the 3D coordinates of the points of our graphs."
   ]
  },
  {
   "cell_type": "code",
   "execution_count": null,
   "metadata": {},
   "outputs": [],
   "source": [
    "class Point( object ):\n",
    "    def __init__( self, x, y, z, data ):\n",
    "        self.x, self.y, self.z = x, y, z\n",
    "        self.data = data\n",
    "\n",
    "    def __str__ (self):\n",
    "        return \"Ponto do tipo %s. Coordenadas %s %s %s\" % (self.data, self.x, self.y, self.z)"
   ]
  },
  {
   "cell_type": "code",
   "execution_count": null,
   "metadata": {},
   "outputs": [],
   "source": [
    "import csv\n",
    "\n",
    "csv.register_dialect('myDialect',\n",
    "delimiter = ',',\n",
    "skipinitialspace=True)"
   ]
  },
  {
   "cell_type": "code",
   "execution_count": null,
   "metadata": {},
   "outputs": [],
   "source": [
    "with open('input_BIAL.csv', 'r') as csvDataFile:\n",
    "    csvReader = csv.reader(csvDataFile, dialect = 'myDialect')\n",
    "    for row in csvReader:\n",
    "        print(row)"
   ]
  },
  {
   "cell_type": "markdown",
   "metadata": {},
   "source": [
    "The rows 1, 3, 4  and 5 have to change to int or to float:"
   ]
  },
  {
   "cell_type": "code",
   "execution_count": null,
   "metadata": {},
   "outputs": [],
   "source": [
    "database = []\n",
    "\n",
    "with open('input_BIAL.csv', 'r') as csvDataFile:\n",
    "    csvReader = csv.reader(csvDataFile, dialect = 'myDialect')\n",
    "\n",
    "    mol = -1\n",
    "    molecule_type = \"\"\n",
    "    idconf = -1\n",
    "    \n",
    "    for idx, row in enumerate(csvReader):\n",
    "        if (row[0] != 'pdb'):\n",
    "            # if the row does not have the title\n",
    "            # then we have one of the molecules\n",
    "            \n",
    "            if (molecule_type != row[0]):\n",
    "                # if the molecule in row[0] is different from \n",
    "                # the molecule stored in the variable \"molecule_type\"\n",
    "                # identify the new molecule\n",
    "                print (\"Molecule\", row[0])\n",
    "                # update molecule \n",
    "                molecule_type = row[0]\n",
    "                # create space in the list for the molecule\n",
    "                database.append([])\n",
    "                mol = mol+1\n",
    "                idconf= -1\n",
    "            # (else) we are in the same molecule\n",
    "            \n",
    "            if( idconf != int(row[1])):\n",
    "                # if the conformation number is different \n",
    "                # from the one in variable idconf + 1\n",
    "                # then identify this new conformation\n",
    "                print(\"new conformation: \",row[1])\n",
    "                # update the number of the conformation\n",
    "                idconf = idconf+1\n",
    "                # create space in the list for the next conformation \n",
    "                database[mol].append([])\n",
    "            \n",
    "            #simplify name of the types\n",
    "            types=\"\"\n",
    "            if \"H\" in row[2]:\n",
    "                types=\"H\"\n",
    "            if \"P\" in row[2]:\n",
    "                types =\"P\"\n",
    "            \n",
    "            print(\"Adding the point\",types,\"with coordinates \",row[3],row[4],row[5])\n",
    "            # add point to the corresponding molecule and conformation in the list\n",
    "            database[mol][idconf].append(Point(float(row[3]), \n",
    "                                               float(row[4]), \n",
    "                                               float(row[5]), \n",
    "                                               types))"
   ]
  },
  {
   "cell_type": "markdown",
   "metadata": {},
   "source": [
    "now we have a database of every point in every conformation\n",
    "\n",
    "database == list of molecules = \\[molecule, ..., molecule\\]\n",
    "\n",
    "molecule == list of conformations = \\[conformation, ..., conformation\\]\n",
    "\n",
    "conformation == list of points \\[point, ..., point\\]\n",
    "\n",
    "database = \\[ \\[ \\[ Points \\] \\], ..., \\[ \\[ Points \\] \\] \\]"
   ]
  },
  {
   "cell_type": "code",
   "execution_count": null,
   "metadata": {},
   "outputs": [],
   "source": [
    "for idxMol, mol in enumerate(database):\n",
    "    print(\"new molecule\")\n",
    "    for idxConf, conf in enumerate(mol):\n",
    "        print(\"new conformation\")\n",
    "        for idxPoint, point in enumerate(conf):\n",
    "            print (point.x,point.y,point.z,point.data)"
   ]
  },
  {
   "cell_type": "markdown",
   "metadata": {},
   "source": [
    "### Auxiliary functions for restriction verification"
   ]
  },
  {
   "cell_type": "markdown",
   "metadata": {},
   "source": [
    "The first definition is the distance (d) between every two points.\n",
    "\n",
    "$$\n",
    "d = ((x_2 - x_1)^2 + (y_2 - y_1)^2 + (z_2 - z_1)^2)^{1/2} \n",
    "$$"
   ]
  },
  {
   "cell_type": "code",
   "execution_count": null,
   "metadata": {},
   "outputs": [],
   "source": [
    "def dist ( PointA, PointB ):\n",
    "    xa = PointA.x\n",
    "    xb = PointB.x\n",
    "    ya = PointA.y\n",
    "    yb = PointB.y\n",
    "    za = PointA.z\n",
    "    zb = PointB.z \n",
    "\n",
    "    final = m.sqrt( (xa-xb)**2 + (ya-yb)**2 + (za-zb)**2 )\n",
    "\n",
    "    return final"
   ]
  },
  {
   "cell_type": "code",
   "execution_count": null,
   "metadata": {},
   "outputs": [],
   "source": [
    "def sameType (*points): #return true or false whenever the 2 or more points are of the same type or not\n",
    "    result = True\n",
    "    type_data = \"\"\n",
    "    \n",
    "    if(len(points)<2):\n",
    "        raise Exception('Number of points to be compared should be at least 2. The number of points was: {}'.format(len(points)))\n",
    "    \n",
    "    for i in points:\n",
    "        if (type_data == \"\"):\n",
    "            type_data = i.data\n",
    "        \n",
    "        result = result and (type_data==i.data)\n",
    "        \n",
    "    return result"
   ]
  },
  {
   "cell_type": "code",
   "execution_count": null,
   "metadata": {},
   "outputs": [],
   "source": [
    "def possible (point1,point2): \n",
    "    \n",
    "    value = 0\n",
    "\n",
    "    if (sameType(point1,point2) and (dist(point1,point2)<=2)):\n",
    "        value = 1\n",
    "    \n",
    "    return value"
   ]
  },
  {
   "cell_type": "markdown",
   "metadata": {},
   "source": [
    "## Pre-Alignment\n",
    "For only two molecules at a time."
   ]
  },
  {
   "cell_type": "code",
   "execution_count": null,
   "metadata": {},
   "outputs": [],
   "source": [
    "def convertTolist(conf):\n",
    "    \n",
    "    c = []\n",
    "    t = []\n",
    "    \n",
    "    for idx, p in enumerate(conf):\n",
    "        c.append([])\n",
    "        c[idx].append(p.x)\n",
    "        c[idx].append(p.y)\n",
    "        c[idx].append(p.z)\n",
    "        t.append(p.data)\n",
    "    \n",
    "    return [np.array(c),t]\n",
    "\n",
    "def unconvert(c,t):\n",
    "    conf = []\n",
    "    \n",
    "    for idx, p in enumerate(c):\n",
    "        conf.append(Point(p[0],p[1],p[2],t[idx]))\n",
    "    \n",
    "    return conf"
   ]
  },
  {
   "cell_type": "code",
   "execution_count": null,
   "metadata": {},
   "outputs": [],
   "source": [
    "def transformation(*confs):\n",
    "    # X and Y are lists with coordinates of 2 different\n",
    "    #conformations that we want to \"align\"\n",
    "    if (len(confs)==2):\n",
    "        [c1,t1], [c2,t2] = convertTolist(confs[0]), convertTolist(confs[1])\n",
    "        \n",
    "        reg1 = rigid_registration(**{ 'X': c1, 'Y': c2 })\n",
    "        TY1, _, err1 = reg1.register()\n",
    "    \n",
    "        reg2 = rigid_registration(**{ 'X': c2, 'Y': c1 })\n",
    "        TY2, _, err2 = reg2.register()\n",
    "        \n",
    "        if(err1 < err2):\n",
    "            result = unconvert(c1,t1), unconvert(TY1,t2)\n",
    "        else:\n",
    "            result = unconvert(TY2,t1), unconvert(c2,t2)\n",
    "    \n",
    "    return result"
   ]
  },
  {
   "cell_type": "markdown",
   "metadata": {},
   "source": [
    "## Creation of the structures required for the SAT solver\n",
    "#### Vector D and P\n",
    "For only two molecules at a time."
   ]
  },
  {
   "cell_type": "code",
   "execution_count": null,
   "metadata": {},
   "outputs": [],
   "source": [
    "#Only considering edges between points of differents conformations and molecules!\n",
    "def combinations (*molecules):\n",
    "    \n",
    "    numberPoints = []\n",
    "    for mol in molecules:\n",
    "        numberPoints.append(len(mol[0]))\n",
    "    \n",
    "    vectorD = np.zeros(np.prod(numberPoints))\n",
    "    vectorP = np.zeros(np.prod(numberPoints))\n",
    "    \n",
    "    listvectorsD = []\n",
    "    listvectorsP = []\n",
    "    \n",
    "    size = len(molecules)\n",
    "\n",
    "    if(size==2):\n",
    "        for idxConf1, conf1 in enumerate(molecules[0]):\n",
    "            for idxConf2, conf2 in enumerate(molecules[1]):\n",
    "                nconf1, nconf2 = transformation(conf1,conf2)\n",
    "                for idxP1, p1 in enumerate(nconf1):\n",
    "                    for idxP2, p2 in enumerate(nconf2):\n",
    "                        a = dist(p1,p2)\n",
    "                        b = possible(p1,p2)\n",
    "                        vectorD[idxP2+(idxP1 * len(nconf2))] = a\n",
    "                        vectorP[idxP2+(idxP1 * len(nconf2))] = b \n",
    "                        \n",
    "                listvectorsD.append(vectorD)\n",
    "                listvectorsP.append(vectorP)\n",
    "                vectorD = np.zeros(np.prod(numberPoints))\n",
    "                vectorP = np.zeros(np.prod(numberPoints))\n",
    "    return listvectorsD, listvectorsP"
   ]
  },
  {
   "cell_type": "code",
   "execution_count": null,
   "metadata": {},
   "outputs": [],
   "source": [
    "listDs = []\n",
    "listPs = []\n",
    "listDs, listPs = combinations(database[1],database[2])"
   ]
  },
  {
   "cell_type": "markdown",
   "metadata": {},
   "source": [
    "Multiply the distances by 10."
   ]
  },
  {
   "cell_type": "code",
   "execution_count": null,
   "metadata": {},
   "outputs": [],
   "source": [
    "D = [x*10 for x in listDs[0]]\n",
    "P = [ x for x in listPs[0]]"
   ]
  },
  {
   "cell_type": "markdown",
   "metadata": {},
   "source": [
    "Create a solution to be tested in the Ising Hamiltonian for a sanity check."
   ]
  },
  {
   "cell_type": "code",
   "execution_count": null,
   "metadata": {},
   "outputs": [],
   "source": [
    "I = [ x for x in np.ones(len(D))]\n",
    "print(D,P,I)"
   ]
  },
  {
   "cell_type": "markdown",
   "metadata": {},
   "source": [
    "## Quantum SAT"
   ]
  },
  {
   "cell_type": "code",
   "execution_count": null,
   "metadata": {},
   "outputs": [],
   "source": [
    "import operator\n",
    "import matplotlib.pyplot as plt\n",
    "\n",
    "import sys\n",
    "if sys.version_info < (3, 6):\n",
    "    raise Exception('Please use Python version 3.6 or greater.')\n",
    "\n",
    "# Qiskit packages\n",
    "from qiskit import BasicAer\n",
    "from qiskit import IBMQ\n",
    "from qiskit.quantum_info import Pauli\n",
    "from qiskit.aqua import QuantumInstance, aqua_globals\n",
    "from qiskit.aqua.algorithms import NumPyEigensolver, VQE\n",
    "from qiskit.aqua.components.variational_forms import RY\n",
    "from qiskit.aqua.components.optimizers import SPSA\n",
    "from qiskit.aqua.operators import WeightedPauliOperator\n",
    "\n",
    "import logging\n",
    "from qiskit.aqua._logging import set_logging_config, build_logging_config\n",
    "\n",
    "import qiskit.tools.jupyter\n",
    "%qiskit_version_table"
   ]
  },
  {
   "cell_type": "markdown",
   "metadata": {},
   "source": [
    "### Evaluate the quantum solution for each pair of conformations, that is, each pair of vector D and P\n",
    "\n",
    "Each position of the vector list's correspond to a diferent pair of conformations.\n"
   ]
  },
  {
   "cell_type": "markdown",
   "metadata": {},
   "source": [
    "### Construct the Ising Hamiltonian\n",
    "\n",
    "#### for 2 molecules\n",
    "\n",
    "$$\n",
    "H = \\sum_{i \\sim j}^{N} d_{ij} x_{ij} - \n",
    "\\sum_{i \\sim j}^{N} x_{ij} + \n",
    "A \\sum_{i \\sim j}^{N} \\Big(p_{ij} - x_{ij} \\Big)^2 + \n",
    "B \\sum_{i}^N \\Big( M-1 - \\sum_{j\\sim i}^{N} x_{ij} \\Big)^2\n",
    "$$\n",
    "\n",
    "\n",
    "where:\n",
    "\n",
    "$\\it N$ is the number of points in a conformation. Every conformation of a given molecule has de same number of points, so, N can also be denoted as the number of points in a molecule\n",
    "\n",
    "$\\it M$ is the number of different molecules to align \n",
    "\n",
    "$\\it A$ is a big enough parameter.\n",
    "\n",
    "$\\it d_{ij}$ is a vector representing the distance of each edge\n",
    "\n",
    "$\\it p_{ij}$ is a binary vector representing the possibility of each edge\n",
    "\n",
    "$\\it x_{ij}$ is our final vector, to optimize\n"
   ]
  },
  {
   "cell_type": "markdown",
   "metadata": {},
   "source": [
    "\n",
    "### From Hamiltonian to QP formulation in the z basis, only considering the objective function\n",
    "#### for 2 molecules\n",
    "\n",
    "In the vector ${\\bf z}$, where $x_i \\rightarrow \\frac{(1-z_i)}{2}$, $H$ can be written as follows.\n",
    "\n",
    "$$\n",
    "\\min_{{\\bf z}\\in \\{0,1\\}^{N_{mol1}xN_{mol2}}} \\mathbf{H} = \\frac{1}{2}\\sum_{i \\sim j}^{N} d_{ij} -\\frac{1}{2}\\sum_{i \\sim j}^{N} d_{ij}z_{ij} -\\frac{1}{2}\\sum_{i \\sim j}^{N} 1 + \\frac{1}{2}\\sum_{i \\sim j}^{N} z_{ij} \n",
    "$$\n",
    "\n",
    "That is:\n",
    "$$\n",
    "\\mathbf{H} =  \\Big( \\frac{1}{2}( \\mathbf{1} - \\mathbf{d} ) \\Big)^T \\mathbf{z} + \\frac{1}{2}(\\mathbf{d}-\\mathbf{1}) \\\\\n",
    "= \\mathbf{g}^T \\mathbf{z} + \\mathbf{c}\n",
    "$$\n",
    "\n",
    "The QP formulation of the Ising Hamiltonian is ready for the use of VQE. "
   ]
  },
  {
   "cell_type": "markdown",
   "metadata": {},
   "source": [
    "#### Login into IBM platafomrm"
   ]
  },
  {
   "cell_type": "code",
   "execution_count": null,
   "metadata": {},
   "outputs": [],
   "source": [
    "token = '' #insert token inside the quotes\n",
    "IBMQ.enable_account(token)"
   ]
  },
  {
   "cell_type": "markdown",
   "metadata": {},
   "source": [
    "#### Complete acoording to your HUB credentials or mantain as it is"
   ]
  },
  {
   "cell_type": "code",
   "execution_count": null,
   "metadata": {},
   "outputs": [],
   "source": [
    "provider = IBMQ.get_provider(hub='ibm-q', group='open', project='main')"
   ]
  },
  {
   "cell_type": "markdown",
   "metadata": {},
   "source": [
    "See the available backends."
   ]
  },
  {
   "cell_type": "code",
   "execution_count": null,
   "metadata": {},
   "outputs": [],
   "source": [
    "provider.backends()"
   ]
  },
  {
   "cell_type": "markdown",
   "metadata": {},
   "source": [
    "### Quantum solution from the ground up\n",
    "\n",
    "By use of Qiskit, derive the solution from the ground up, using a class QuantumOptimizer that encodes the quantum approach to solve the problem. Then, instantiate it and solve it."
   ]
  },
  {
   "cell_type": "code",
   "execution_count": null,
   "metadata": {},
   "outputs": [],
   "source": [
    "class QuantumOptimizer:\n",
    "    def __init__(self, d, p, max_trials=1000):\n",
    "\n",
    "        self.d = d\n",
    "        self.p = p\n",
    "        self.size = len(d)\n",
    "        self.max_trials = max_trials\n",
    "\n",
    "    def binary_representation(self,x_sol=[]):\n",
    "\n",
    "        p = self.p\n",
    "        d = self.d\n",
    "        size = self.size\n",
    "        ones = np.ones(size)\n",
    "\n",
    "        # g defines the contribution from the individual variables\n",
    "        g = [x / 2 for x in np.subtract(ones,d)]\n",
    "        # c is the constant offset\n",
    "        c = np.sum([x / 2 for x in np.subtract(d,ones)])\n",
    "\n",
    "        try:\n",
    "            fun = lambda x: np.dot(d,x) - np.dot(ones,x)\n",
    "            cost = fun(x_sol)\n",
    "        except:\n",
    "            cost = 0\n",
    "        \n",
    "        return g, c, cost\n",
    "    \n",
    "    def construct_hamiltonian(self):\n",
    "\n",
    "        p = self.p\n",
    "        d = self.d\n",
    "        size = self.size\n",
    "\n",
    "        N = size  # number of qubits\n",
    "        \n",
    "        gz,cz, _ = self.binary_representation() # already in the Z-basis\n",
    "        \n",
    "        # Getting the Hamiltonian in the form of a list of Pauli terms\n",
    "\n",
    "        pauli_list = []\n",
    "        for i in range(N):\n",
    "            if gz[i] != 0:\n",
    "                wp = np.zeros(N)\n",
    "                vp = np.zeros(N)\n",
    "                vp[i] = 1\n",
    "                pauli_list.append((gz[i], Pauli(vp, wp)))\n",
    "\n",
    "        pauli_list.append((cz, Pauli(np.zeros(N), np.zeros(N))))\n",
    "\n",
    "        return cz, pauli_list\n",
    "\n",
    "    def check_hamiltonian(self):\n",
    "\n",
    "        cz, op = self.construct_hamiltonian()\n",
    "        Op = WeightedPauliOperator(paulis=op)\n",
    "\n",
    "        qubitOp, offset = Op, 0\n",
    "        \n",
    "        # Making the Hamiltonian in its full form and getting the lowest eigenvalue and eigenvector\n",
    "        \n",
    "        result0 = NumPyEigensolver(operator=qubitOp).run()\n",
    "        result = result0['eigenstates'].to_matrix(massive=True)\n",
    "        \n",
    "        quantum_solution = self._q_solution(np.real(result[0]).tolist(),self.size)\n",
    "        \n",
    "        ground_level = np.real(result0['eigenvalues'][0]) + offset\n",
    "\n",
    "        return quantum_solution, ground_level\n",
    "\n",
    "    def vqe_solution(self):\n",
    "\n",
    "        cz, op = self.construct_hamiltonian()\n",
    "        Op = WeightedPauliOperator(paulis=op)\n",
    "\n",
    "        qubitOp, offset = Op, cz\n",
    "\n",
    "        aqua_globals.random_seed = 10598\n",
    "        \n",
    "        num_qubits = qubitOp.num_qubits\n",
    "        var_form = RY(qubitOp.num_qubits, depth=5, entanglement='linear')\n",
    "        optimizer = SPSA(max_trials=self.max_trials)\n",
    "        algo = VQE(qubitOp, var_form, optimizer)\n",
    "        \n",
    "        #choose acoording to the available backend by your credentials\n",
    "        backend = provider.get_backend('ibmq_qasm_simulator')\n",
    "        #backend = provider.get_backend('ibmq_cambridge')\n",
    "        \n",
    "        quantum_instance = QuantumInstance(backend,\n",
    "                                           seed_simulator=aqua_globals.random_seed,\n",
    "                                           seed_transpiler=aqua_globals.random_seed,\n",
    "                                           skip_qobj_validation=False)\n",
    "        \n",
    "        print(\"           Running\")\n",
    "        start = time.time()\n",
    "        result = algo.run(quantum_instance)\n",
    "        print(\"           time taken (seconds):\",time.time() - start)\n",
    "        \n",
    "        quantum_solution_dict = result['eigenstate']\n",
    "\n",
    "        q_s = max(quantum_solution_dict.items(), key=operator.itemgetter(1))[0]\n",
    "        quantum_solution= [int(chars) for chars in q_s]\n",
    "        quantum_solution = np.flip(quantum_solution, axis=0)\n",
    "\n",
    "        _,_,level = self.binary_representation(x_sol=quantum_solution)\n",
    "        return quantum_solution_dict, quantum_solution, level\n",
    "\n",
    "    def _q_solution(self, v, N):\n",
    "        \n",
    "        for x in range(len(v)):\n",
    "            if v[x] == max(v):\n",
    "                index_value = x\n",
    "                break\n",
    "                \n",
    "        string_value = \"{0:b}\".format(index_value)\n",
    "\n",
    "        while len(string_value)<N:\n",
    "            string_value = '0'+string_value\n",
    "\n",
    "        sol = list()\n",
    "        for elements in string_value:\n",
    "            if elements == '0':\n",
    "                sol.append(0)\n",
    "            else:\n",
    "                sol.append(1)\n",
    "\n",
    "        sol = np.flip(sol, axis=0)\n",
    "\n",
    "        return sol"
   ]
  },
  {
   "cell_type": "markdown",
   "metadata": {},
   "source": [
    "### Step 1\n",
    "\n",
    "Instantiate the quantum optimizer class with the parameters. It was used 100 as the max_trials."
   ]
  },
  {
   "cell_type": "code",
   "execution_count": null,
   "metadata": {},
   "outputs": [],
   "source": [
    "# Instantiate the quantum optimizer class with parameters: \n",
    "quantum_optimizer = QuantumOptimizer(D,P,100)"
   ]
  },
  {
   "cell_type": "markdown",
   "metadata": {},
   "source": [
    "### Step 2\n",
    "\n",
    "Encode the problem as a binary formulation (IH-QP).\n",
    "\n",
    "Sanity check: make sure that the binary formulation in the quantum optimizer is correct (i.e., yields the same cost given the same solution)."
   ]
  },
  {
   "cell_type": "code",
   "execution_count": null,
   "metadata": {},
   "outputs": [],
   "source": [
    "# Check if the binary representation is correct\n",
    "g,c,binary_cost = quantum_optimizer.binary_representation(I)\n",
    "print(binary_cost)"
   ]
  },
  {
   "cell_type": "markdown",
   "metadata": {},
   "source": [
    "### Step 3\n",
    "\n",
    "Encode the problem as an Ising Hamiltonian in the Z basis. \n",
    "\n",
    "Sanity check: make sure that the formulation is correct (i.e., yields the same cost given the same solution)\n",
    "\n",
    "#### DO NOT RUN in the current Qiskit version"
   ]
  },
  {
   "cell_type": "code",
   "execution_count": null,
   "metadata": {},
   "outputs": [],
   "source": [
    "ground_state, ground_level = quantum_optimizer.check_hamiltonian()\n",
    "print(ground_state,ground_level)"
   ]
  },
  {
   "cell_type": "markdown",
   "metadata": {},
   "source": [
    "### Step 4\n",
    "\n",
    "Solve the problem via VQE. N.B. Depending on the number of qubits, the state-vector simulation can can take a while; for example with 12 qubits, it takes more than 12 hours. Logging useful to see what the program is doing.\n"
   ]
  },
  {
   "cell_type": "code",
   "execution_count": null,
   "metadata": {},
   "outputs": [],
   "source": [
    "quantum_dictionary, quantum_solution, quantum_cost = quantum_optimizer.vqe_solution()\n",
    "\n",
    "print(quantum_solution, quantum_cost)"
   ]
  }
 ],
 "metadata": {
  "kernelspec": {
   "display_name": "Python 3",
   "language": "python",
   "name": "python3"
  },
  "language_info": {
   "codemirror_mode": {
    "name": "ipython",
    "version": 3
   },
   "file_extension": ".py",
   "mimetype": "text/x-python",
   "name": "python",
   "nbconvert_exporter": "python",
   "pygments_lexer": "ipython3",
   "version": "3.6.9"
  }
 },
 "nbformat": 4,
 "nbformat_minor": 2
}
