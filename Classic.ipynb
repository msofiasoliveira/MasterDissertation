{
 "cells": [
  {
   "cell_type": "markdown",
   "metadata": {},
   "source": [
    "<a id = 'classic01'></a>"
   ]
  },
  {
   "cell_type": "markdown",
   "metadata": {},
   "source": [
    "## Classical implementation of Problem\n"
   ]
  },
  {
   "cell_type": "code",
   "execution_count": null,
   "metadata": {},
   "outputs": [],
   "source": [
    "from gurobipy import *\n",
    "import numpy as np\n",
    "import math as m\n",
    "import time\n",
    "import sys\n",
    "from itertools import combinations as comb\n",
    "from scipy.special import comb as comb2"
   ]
  },
  {
   "cell_type": "code",
   "execution_count": null,
   "metadata": {},
   "outputs": [],
   "source": [
    "from functools import partial\n",
    "from pycpd import rigid_registration"
   ]
  },
  {
   "cell_type": "markdown",
   "metadata": {},
   "source": [
    "### Data Treatment\n",
    "\n",
    "The information we initial have is the 3D coordinates of the points of our graphs."
   ]
  },
  {
   "cell_type": "code",
   "execution_count": null,
   "metadata": {},
   "outputs": [],
   "source": [
    "class Point( object ):\n",
    "    def __init__( self, x, y, z, data ):\n",
    "        self.x, self.y, self.z = x, y, z\n",
    "        self.data = data\n",
    "\n",
    "    def __str__ (self):\n",
    "        return \"Point of type %s. Coordinates %s %s %s\" % (self.data, self.x, self.y, self.z)"
   ]
  },
  {
   "cell_type": "code",
   "execution_count": null,
   "metadata": {},
   "outputs": [],
   "source": [
    "import csv\n",
    "\n",
    "csv.register_dialect('myDialect',\n",
    "delimiter = ',',\n",
    "skipinitialspace=True)"
   ]
  },
  {
   "cell_type": "code",
   "execution_count": null,
   "metadata": {},
   "outputs": [],
   "source": [
    "with open('input_BIAL.csv', 'r') as csvDataFile:\n",
    "    csvReader = csv.reader(csvDataFile, dialect = 'myDialect')\n",
    "    for row in csvReader:\n",
    "        print(row)"
   ]
  },
  {
   "cell_type": "code",
   "execution_count": null,
   "metadata": {},
   "outputs": [],
   "source": [
    "database = [] \n",
    "\n",
    "with open('input_BIAL.csv', 'r') as csvDataFile:\n",
    "    csvReader = csv.reader(csvDataFile, dialect = 'myDialect')\n",
    "\n",
    "    mol = -1\n",
    "    molecule_type = \"\"\n",
    "    idconf = -1\n",
    "    \n",
    "    for idx, row in enumerate(csvReader):\n",
    "        if (row[0] != 'pdb'):\n",
    "            # if the row does not have the title\n",
    "            # then we have one of the molecules\n",
    "            \n",
    "            if (molecule_type != row[0]):\n",
    "                # if the molecule in row[0] is different from \n",
    "                # the molecule stored in the variable \"molecule_type\"\n",
    "                # identify the new molecule\n",
    "                print (\"Molecule\", row[0])\n",
    "                # update molecule \n",
    "                molecule_type = row[0]\n",
    "                # create space in the list for the molecule\n",
    "                database.append([])\n",
    "                mol = mol+1\n",
    "                idconf= -1\n",
    "            # (else) we are in the same molecule\n",
    "            \n",
    "            if( idconf != int(row[1])):\n",
    "                # if the conformation number is different \n",
    "                # from the one in variable idconf + 1\n",
    "                # then identify this new conformation\n",
    "                print(\"new conformation: \",row[1])\n",
    "                # update the number of the conformation\n",
    "                idconf = idconf+1\n",
    "                # create space in the list for the next conformation \n",
    "                database[mol].append([])\n",
    "            \n",
    "            #simplify name of the types\n",
    "            types=\"\"\n",
    "            if \"H\" in row[2]:\n",
    "                types=\"H\"\n",
    "            if \"P\" in row[2]:\n",
    "                types =\"P\"\n",
    "            \n",
    "            print(\"Adding the point\",types,\"with coordinates \",row[3],row[4],row[5])\n",
    "            # add point to the corresponding molecule and conformation in the list\n",
    "            database[mol][idconf].append(Point(float(row[3]), \n",
    "                                               float(row[4]), \n",
    "                                               float(row[5]), \n",
    "                                               types))"
   ]
  },
  {
   "cell_type": "markdown",
   "metadata": {},
   "source": [
    "now we have a database of every point in every conformation\n",
    "\n",
    "database == list of molecules = \\[molecule, ..., molecule\\]\n",
    "\n",
    "molecule == list of conformations = \\[conformation, ..., conformation\\]\n",
    "\n",
    "conformation == list of points \\[point, ..., point\\]\n",
    "\n",
    "database = \\[ \\[ \\[ Points \\] \\], ..., \\[ \\[ Points \\] \\] \\]"
   ]
  },
  {
   "cell_type": "code",
   "execution_count": null,
   "metadata": {},
   "outputs": [],
   "source": [
    "for idxMol, mol in enumerate(database):\n",
    "    print(\"new molecule\")\n",
    "    for idxConf, conf in enumerate(mol):\n",
    "        print(\"new conformation\")\n",
    "        for idxPoint, point in enumerate(conf):\n",
    "            print (point.x,point.y,point.z,point.data)"
   ]
  },
  {
   "cell_type": "markdown",
   "metadata": {},
   "source": [
    "### Auxiliary functions for restriction verification"
   ]
  },
  {
   "cell_type": "markdown",
   "metadata": {},
   "source": [
    "The first definition of the data set uses the distance (d) between every two points, $(x_1,y_1,z_1)$ and $(x_2,y_2,z_2)$.\n",
    "\n",
    "$$\n",
    "d = ((x_2 - x_1)^2 + (y_2 - y_1)^2 + (z_2 - z_1)^2)^{1/2} \n",
    "$$"
   ]
  },
  {
   "cell_type": "code",
   "execution_count": null,
   "metadata": {},
   "outputs": [],
   "source": [
    "def dist ( PointA, PointB ):\n",
    "    xa = PointA.x\n",
    "    xb = PointB.x\n",
    "    ya = PointA.y\n",
    "    yb = PointB.y\n",
    "    za = PointA.z\n",
    "    zb = PointB.z \n",
    "\n",
    "    final = m.sqrt( (xa-xb)**2 + (ya-yb)**2 + (za-zb)**2 )\n",
    "\n",
    "    return final"
   ]
  },
  {
   "cell_type": "code",
   "execution_count": null,
   "metadata": {},
   "outputs": [],
   "source": [
    "def sameType (*points): #return true or false whenever the 2 or more points are of the same type or not\n",
    "    result = True\n",
    "    type_data = \"\"\n",
    "    \n",
    "    if(len(points)<2):\n",
    "        raise Exception('Number of points to be compared should be at least 2. The number of points was: {}'.format(len(points)))\n",
    "    \n",
    "    for i in points:\n",
    "        if (type_data == \"\"):\n",
    "            type_data = i.data\n",
    "        \n",
    "        result = result and (type_data==i.data)\n",
    "        \n",
    "    return result"
   ]
  },
  {
   "cell_type": "code",
   "execution_count": null,
   "metadata": {},
   "outputs": [],
   "source": [
    "def distances (*points): \n",
    "    # returns the distance between 2 or more points of the same type, if \n",
    "    # the alignment between them is possible\n",
    "    value = 0\n",
    "    pairs = [] #list with the distances between each pairs\n",
    "\n",
    "    if sameType(*points):\n",
    "        for pair in comb(points,2):\n",
    "            pairs.append(dist(pair[0],pair[1]))\n",
    "\n",
    "    if (all(dists<=2 for dists in pairs )):\n",
    "        value = sum(pairs)\n",
    "    \n",
    "    return value"
   ]
  },
  {
   "cell_type": "markdown",
   "metadata": {},
   "source": [
    "## Pre-Alignment"
   ]
  },
  {
   "cell_type": "code",
   "execution_count": null,
   "metadata": {},
   "outputs": [],
   "source": [
    "def convertTolist(conf):\n",
    "    \n",
    "    c = []\n",
    "    t = []\n",
    "    \n",
    "    for idx, p in enumerate(conf):\n",
    "        c.append([])\n",
    "        c[idx].append(p.x)\n",
    "        c[idx].append(p.y)\n",
    "        c[idx].append(p.z)\n",
    "        t.append(p.data)\n",
    "    \n",
    "    return [np.array(c),t]\n",
    "\n",
    "def unconvert(c,t):\n",
    "    conf = []\n",
    "    \n",
    "    for idx, p in enumerate(c):\n",
    "        conf.append(Point(p[0],p[1],p[2],t[idx]))\n",
    "        \n",
    "    \n",
    "    return conf"
   ]
  },
  {
   "cell_type": "code",
   "execution_count": null,
   "metadata": {},
   "outputs": [],
   "source": [
    "def besterror(c1, c2, c3):\n",
    "    \n",
    "    combinations = []\n",
    "    best = -1\n",
    "    pos = 0\n",
    "    \n",
    "    #first\n",
    "    reg1 = rigid_registration(**{ 'X': c1, 'Y': c2 })\n",
    "    reg2 = rigid_registration(**{ 'X': c1, 'Y': c3 })\n",
    "    combinations.append([reg1.register()[2] + reg2.register()[2],\n",
    "                         c1,\n",
    "                         reg1.register()[0],\n",
    "                         reg2.register()[0]])\n",
    "    \n",
    "    #second\n",
    "    reg1 = rigid_registration(**{ 'X': c2, 'Y': c1 })\n",
    "    reg2 = rigid_registration(**{ 'X': c2, 'Y': c3 })\n",
    "    combinations.append([reg1.register()[2] + reg2.register()[2],\n",
    "                         reg1.register()[0],\n",
    "                         c2,\n",
    "                         reg2.register()[0]])\n",
    "    \n",
    "    #third\n",
    "    reg1 = rigid_registration(**{ 'X': c3, 'Y': c1 })\n",
    "    reg2 = rigid_registration(**{ 'X': c3, 'Y': c2 })\n",
    "    combinations.append([reg1.register()[2] + reg2.register()[2],\n",
    "                         reg1.register()[0],\n",
    "                         reg2.register()[0],\n",
    "                         c3])\n",
    "    \n",
    "    #fourth\n",
    "    reg1 = rigid_registration(**{ 'X': c1, 'Y': c2 })\n",
    "    reg2 = rigid_registration(**{ 'X': reg1.register()[0], 'Y': c3 })\n",
    "    combinations.append([reg1.register()[2] + reg2.register()[2],\n",
    "                         c1, \n",
    "                         reg1.register()[0],\n",
    "                         reg2.register()[0]])\n",
    "    \n",
    "    #fifth\n",
    "    reg1 = rigid_registration(**{ 'X': c1, 'Y': c3 })\n",
    "    reg2 = rigid_registration(**{ 'X': reg1.register()[0], 'Y': c2 })\n",
    "    combinations.append([reg1.register()[2] + reg2.register()[2],\n",
    "                         c1,\n",
    "                         reg2.register()[0],\n",
    "                         reg1.register()[0]])\n",
    "    \n",
    "    #sixth\n",
    "    reg1 = rigid_registration(**{ 'X': c2, 'Y': c1 })\n",
    "    reg2 = rigid_registration(**{ 'X': reg1.register()[0], 'Y': c3 })\n",
    "    combinations.append([reg1.register()[2] + reg2.register()[2],\n",
    "                         reg1.register()[0],\n",
    "                         c2,\n",
    "                         reg2.register()[0]])\n",
    "    \n",
    "    #seventh\n",
    "    reg1 = rigid_registration(**{ 'X': c2, 'Y': c3 })\n",
    "    reg2 = rigid_registration(**{ 'X': reg1.register()[0], 'Y': c1 })\n",
    "    combinations.append([reg1.register()[2] + reg2.register()[2],\n",
    "                         reg2.register()[0],\n",
    "                         c2,\n",
    "                         reg1.register()[0]])\n",
    "    \n",
    "    #eighth\n",
    "    reg1 = rigid_registration(**{ 'X': c3, 'Y': c1 })\n",
    "    reg2 = rigid_registration(**{ 'X': reg1.register()[0], 'Y': c2 })\n",
    "    combinations.append([reg1.register()[2] + reg2.register()[2],\n",
    "                         reg1.register()[0],\n",
    "                         reg2.register()[0],\n",
    "                         c3])\n",
    "    \n",
    "    #ninth\n",
    "    reg1 = rigid_registration(**{ 'X': c3, 'Y': c2 })\n",
    "    reg2 = rigid_registration(**{ 'X': reg1.register()[0], 'Y': c1 })\n",
    "    combinations.append([reg1.register()[2] + reg2.register()[2],\n",
    "                         reg2.register()[0],\n",
    "                         reg1.register()[0],\n",
    "                         c3])\n",
    "    \n",
    "    \n",
    "    for idx, elem in enumerate(combinations):\n",
    "        \n",
    "        if(best==-1 or elem[0]<best ):\n",
    "            best = elem[0]\n",
    "            pos = idx\n",
    "    \n",
    "    return combinations[pos][1], combinations[pos][2], combinations[pos][3] \n",
    "    "
   ]
  },
  {
   "cell_type": "code",
   "execution_count": null,
   "metadata": {},
   "outputs": [],
   "source": [
    "def transformation(*confs):\n",
    "    # X and Y are lists with coordinates of 2 different\n",
    "    #conformations that we want to \"align\"\n",
    "    if (len(confs)==2):\n",
    "        [c1,t1], [c2,t2] = convertTolist(confs[0]), convertTolist(confs[1])\n",
    "        \n",
    "        reg1 = rigid_registration(**{ 'X': c1, 'Y': c2 })\n",
    "        TY1, _, err1 = reg1.register()\n",
    "    \n",
    "        reg2 = rigid_registration(**{ 'X': c2, 'Y': c1 })\n",
    "        TY2, _, err2 = reg2.register()\n",
    "        \n",
    "        if(err1 < err2):\n",
    "            result = unconvert(c1,t1), unconvert(TY1,t2)\n",
    "        else:\n",
    "            result = unconvert(TY2,t1), unconvert(c2,t2)\n",
    "        \n",
    "    if (len(confs)==3):\n",
    "        [c1,t1], [c2,t2], [c3,t3] = convertTolist(confs[0]), convertTolist(confs[1]), convertTolist(confs[2])\n",
    "        \n",
    "        nc1, nc2, nc3 = besterror(c1,c2,c3)\n",
    "        \n",
    "        result = unconvert(nc1,t1), unconvert(nc2,t2), unconvert(nc3,t3)\n",
    "    \n",
    "    return result"
   ]
  },
  {
   "cell_type": "markdown",
   "metadata": {},
   "source": [
    "## SAT solver for 3 molecules"
   ]
  },
  {
   "cell_type": "code",
   "execution_count": null,
   "metadata": {},
   "outputs": [],
   "source": [
    "def solve3(conf1,conf2,conf3,alignN):\n",
    "       \n",
    "    aviso = 0\n",
    "    \n",
    "    pmol1 = len(conf1)\n",
    "    pmol2 = len(conf2)\n",
    "    pmol3 = len(conf3)\n",
    "    \n",
    "    cmol1 = conf1 # molecule 1 conformation\n",
    "    cmol2 = conf2 # molecule 2 conformation\n",
    "    cmol3 = conf3 # molecule 3 conformation\n",
    "    \n",
    "    size = pmol1*pmol2*pmol3  #number of elements of matrix solution\n",
    "\n",
    "    toReturn = np.zeros(size) \n",
    "    \n",
    "    try:\n",
    "        m = Model(\"trial\")\n",
    "        m.Params.OutputFlag = 0\n",
    "        elems = m.addVars(pmol1,pmol2,pmol3,vtype=GRB.BINARY) #array with 1 or 0\n",
    "        dists = m.addVars(pmol1,pmol2,pmol3,lb=0.0,ub=60001.0,vtype=GRB.INTEGER) # array with elements (distances)\n",
    "\n",
    "        \n",
    "        for id1, p1 in enumerate(cmol1):\n",
    "            for id2, p2 in enumerate(cmol2):\n",
    "                for id3, p3 in enumerate(cmol3):\n",
    "                    \n",
    "                    value = round(10000*distances(p1,p2,p3),0)\n",
    "                    \n",
    "                    if ( not(sameType(p1,p2,p3)) or value == 0 ):\n",
    "                        m.addConstr( elems[id1,id2,id3] == 0 )\n",
    "                    \n",
    "                    m.addConstr( (elems[id1,id2,id3] == 0) >> (dists[id1,id2,id3] == 0.0) )\n",
    "                    m.addConstr( (elems[id1,id2,id3] == 1) >> (dists[id1,id2,id3] == value) )\n",
    "    \n",
    "        # each point form conf1 can only be connected to one point from each conformation \n",
    "        for p1 in range(pmol1):\n",
    "            m.addConstr( sum( elems[p1,p2,p3] for p2 in range(pmol2) for p3 in range(pmol3)) <=1 )\n",
    "            \n",
    "        for p2 in range(pmol2):\n",
    "            m.addConstr( sum( elems[p1,p2,p3] for p1 in range(pmol1) for p3 in range(pmol3)) <=1 )\n",
    "        \n",
    "        for p3 in range(pmol3):\n",
    "            m.addConstr( sum( elems[p1,p2,p3] for p1 in range(pmol1) for p2 in range(pmol2)) <=1 )\n",
    "\n",
    "        m.addConstr( elems.sum() >= alignN ) \n",
    "        #relevant pharmacophore has to have at least 3 commun groups\n",
    "        \n",
    "               \n",
    "        m.setObjective( elems.sum(), GRB.MAXIMIZE)\n",
    "        m.setObjective( dists.sum(), GRB.MINIMIZE)\n",
    "               \n",
    "\n",
    "        m.optimize()\n",
    "        \n",
    "        aviso = 0\n",
    "        \n",
    "        if (m.status == GRB.Status.OPTIMAL):\n",
    "            solD = m.getAttr('X', dists)\n",
    "            for i in range(pmol1):\n",
    "                for j in range(pmol2):\n",
    "                    for k in range(pmol3):\n",
    "                        toReturn[i + pmol1*( j + pmol2*k)] = solD[i,j,k]\n",
    "        elif (m.status == GRB.Status.INFEASIBLE):\n",
    "            aviso=1\n",
    "                    \n",
    "    except GurobiError as e:\n",
    "        print('Error code ' + str(e.errno) + \": \" + str(e))\n",
    "        aviso = -1\n",
    "\n",
    "    except AttributeError:\n",
    "        aviso = -1\n",
    "        print('Encountered an attribute error')\n",
    "\n",
    "    return [aviso,toReturn]\n"
   ]
  },
  {
   "cell_type": "markdown",
   "metadata": {},
   "source": [
    "## SAT solver for 2 molecules"
   ]
  },
  {
   "cell_type": "code",
   "execution_count": null,
   "metadata": {},
   "outputs": [],
   "source": [
    "def solve2(conf1,conf2,alignN):\n",
    "       \n",
    "    aviso = 0\n",
    "    \n",
    "    pmol1 = len(conf1)\n",
    "    pmol2 = len(conf2)\n",
    "    \n",
    "    cmol1 = conf1 # molecule 1 conformation\n",
    "    cmol2 = conf2 # molecule 2 conformation\n",
    "    \n",
    "    size = pmol1*pmol2  #number of elements of matrix solution\n",
    "\n",
    "    toReturn = np.zeros(size) \n",
    "    \n",
    "    try:\n",
    "        m = Model(\"trial\")\n",
    "        m.Params.OutputFlag = 0\n",
    "        elems = m.addVars(pmol1,pmol2,vtype=GRB.BINARY) #array with 1 or 0\n",
    "        dists = m.addVars(pmol1,pmol2,lb=0.0,ub=20001.0,vtype=GRB.INTEGER) # array with elements (distances)\n",
    "\n",
    "        \n",
    "        for id1, p1 in enumerate(cmol1):\n",
    "            for id2, p2 in enumerate(cmol2):\n",
    "                    \n",
    "                    value = round(10000*distances(p1,p2),0)\n",
    "                    \n",
    "                    if ( not(sameType(p1,p2)) or value == 0 ):\n",
    "                        m.addConstr( elems[id1,id2] == 0 )\n",
    "                    \n",
    "                    m.addConstr( (elems[id1,id2] == 0) >> (dists[id1,id2] == 0.0) )\n",
    "                    m.addConstr( (elems[id1,id2] == 1) >> (dists[id1,id2] == value) )\n",
    "    \n",
    "        # each point from conf1 can only be connected to one point from each conformation \n",
    "        for p1 in range(pmol1):\n",
    "            m.addConstr( sum( elems[p1,p2] for p2 in range(pmol2)) <=1 )\n",
    "            \n",
    "        for p2 in range(pmol2):\n",
    "            m.addConstr( sum( elems[p1,p2] for p1 in range(pmol1)) <=1 )\n",
    "        \n",
    "        m.addConstr( elems.sum() >= alignN) #relevant pharmacophore has to have at least 3 commun groups\n",
    "        \n",
    "               \n",
    "        m.setObjective( elems.sum(), GRB.MAXIMIZE)\n",
    "        m.setObjective( dists.sum(), GRB.MINIMIZE)\n",
    "               \n",
    "\n",
    "        m.optimize()\n",
    "        \n",
    "        aviso = 0\n",
    "        \n",
    "        if (m.status == GRB.Status.OPTIMAL):\n",
    "            solD = m.getAttr('X', dists)\n",
    "            for i in range(pmol1):\n",
    "                for j in range(pmol2):\n",
    "                        toReturn[i + pmol1*j ] = solD[i,j]\n",
    "        elif (m.status == GRB.Status.INFEASIBLE):\n",
    "            aviso=1\n",
    "                    \n",
    "    except GurobiError as e:\n",
    "        print('Error code ' + str(e.errno) + \": \" + str(e))\n",
    "        aviso = -1\n",
    "\n",
    "    except AttributeError:\n",
    "        aviso = -1\n",
    "        print('Encountered an attribute error')\n",
    "\n",
    "    return [aviso,toReturn]\n"
   ]
  },
  {
   "cell_type": "markdown",
   "metadata": {},
   "source": [
    "Auxiliary functions to deal with data input and output of the classical SAT solver. Used below."
   ]
  },
  {
   "cell_type": "code",
   "execution_count": null,
   "metadata": {},
   "outputs": [],
   "source": [
    "def decompose3(numberPoints,number,a,b):\n",
    "    n1 = numberPoints[0] \n",
    "    n2 = numberPoints[1] \n",
    "    n3 = numberPoints[2]\n",
    "    n4=n1*n2 \n",
    "    \n",
    "    if(number>=n4):\n",
    "        b += 1\n",
    "        return decompose3(numberPoints,number-n4,a,b)\n",
    "    else:\n",
    "        if(number>=n1):\n",
    "            a += 1\n",
    "            return decompose3(numberPoints,number-n1,a,b)\n",
    "        else:\n",
    "            return [number,a,b]"
   ]
  },
  {
   "cell_type": "code",
   "execution_count": null,
   "metadata": {},
   "outputs": [],
   "source": [
    "def decompose2(numberPoints,number,a):\n",
    "    n1 = numberPoints[0] #7 or 5\n",
    "    n2 = numberPoints[1] #5\n",
    "    \n",
    "    if(number>=n1):\n",
    "        a += 1\n",
    "        return decompose2(numberPoints,number-n1,a)\n",
    "    else:\n",
    "        return [number,a]"
   ]
  },
  {
   "cell_type": "code",
   "execution_count": null,
   "metadata": {},
   "outputs": [],
   "source": [
    "def toMatrix(lista,numberPoints):\n",
    "    matrix = np.zeros(tuple(numberPoints))\n",
    "    nmols = len(numberPoints)\n",
    "    \n",
    "    if(nmols==3): \n",
    "        for idx, elem in enumerate(lista):\n",
    "            [id1,id2,id3] = decompose3(numberPoints,idx,0,0)\n",
    "            matrix[id1][id2][id3] = elem\n",
    "            \n",
    "    if(nmols==2):\n",
    "        for idx, elem in enumerate(lista):\n",
    "            [id1,id2] = decompose2(numberPoints,idx,0)\n",
    "            matrix[id1][id2] = elem\n",
    "    \n",
    "    return matrix"
   ]
  },
  {
   "cell_type": "markdown",
   "metadata": {},
   "source": [
    "## Creation of the solution structures"
   ]
  },
  {
   "cell_type": "code",
   "execution_count": null,
   "metadata": {},
   "outputs": [],
   "source": [
    "conf_sol = []\n",
    "def combinations (*molecules):\n",
    "    \n",
    "    numberPoints = []\n",
    "    for mol in molecules:\n",
    "        numberPoints.append(len(mol[0]))\n",
    "    \n",
    "    listmatrix = []\n",
    "    matrix_list1 = []\n",
    "    matrix_list2 = []\n",
    "    \n",
    "    newList = []\n",
    "    \n",
    "    size = len(molecules)\n",
    "    \n",
    "    if(size==3):\n",
    "        for idxConf1, conf1 in enumerate(molecules[0]):\n",
    "            for idxConf2, conf2 in enumerate(molecules[1]):\n",
    "                for idxConf3, conf3 in enumerate(molecules[2]):\n",
    "                    \n",
    "                    nconf1, nconf2, nconf3 = transformation(conf1,conf2,conf3)\n",
    "                    \n",
    "                    conf_sol.append([nconf1, nconf2, nconf3]) #new conformation coordinates\n",
    "\n",
    "                    [aviso, matrix_list1] = solve3(nconf1,nconf2,nconf3,3)\n",
    "                    \n",
    "                    if aviso==0:\n",
    "                        [aviso, matrix_list2] = solve3(nconf1,nconf2,nconf3,4)\n",
    "                        \n",
    "                        if aviso==0:\n",
    "                            matrix_list1 = []\n",
    "                            [aviso, matrix_list1] = solve3(nconf1,nconf2,nconf3,5)\n",
    "                            \n",
    "                            if aviso==0:\n",
    "                                newList = [x/10000 for x in matrix_list1]\n",
    "                                listmatrix.append( toMatrix(newList,numberPoints)  )\n",
    "                            elif aviso==1:\n",
    "                                newList = [x/10000 for x in matrix_list2]\n",
    "                                listmatrix.append( toMatrix(newList,numberPoints)  )\n",
    "                        \n",
    "                        elif aviso==1:\n",
    "                            newList = [x/10000 for x in matrix_list1]\n",
    "                            listmatrix.append( toMatrix(newList,numberPoints)  )\n",
    "                    \n",
    "                    elif aviso==1:\n",
    "                        matrix = np.zeros(tuple(numberPoints))\n",
    "                        listmatrix.append(matrix)\n",
    "                    \n",
    "                    if(aviso==-1):\n",
    "                        print(\"ERROR IN SAT SOLVER\")\n",
    "\n",
    "                    matrix_list1 = []\n",
    "                    matrix_list2 = []\n",
    "                    newList = []\n",
    "                \n",
    "    if(size==2):\n",
    "        for idxConf1, conf1 in enumerate(molecules[0]):\n",
    "            for idxConf2, conf2 in enumerate(molecules[1]):\n",
    "                \n",
    "                nconf1, nconf2 = transformation(conf1,conf2)\n",
    "                conf_sol.append([nconf1, nconf2]) #new conformation coordinates\n",
    "                \n",
    "                [aviso, matrix_list1] = solve2(nconf1,nconf2,3)\n",
    "\n",
    "                if aviso==0:\n",
    "                    [aviso, matrix_list2] = solve2(nconf1,nconf2,4)\n",
    "\n",
    "                    if aviso==0:\n",
    "                        matrix_list1 = []\n",
    "                        [aviso, matrix_list1] = solve2(nconf1,nconf2,5)\n",
    "\n",
    "                        if aviso==0:\n",
    "                            newList = [x/10000 for x in matrix_list1]\n",
    "                            listmatrix.append( toMatrix(newList,numberPoints)  )\n",
    "                        elif aviso==1:\n",
    "                            newList = [x/10000 for x in matrix_list2]\n",
    "                            listmatrix.append( toMatrix(newList,numberPoints)  )\n",
    "\n",
    "                    elif aviso==1:\n",
    "                        newList = [x/10000 for x in matrix_list1]\n",
    "                        listmatrix.append( toMatrix(newList,numberPoints)  )\n",
    "\n",
    "                elif aviso==1:\n",
    "                    matrix = np.zeros(tuple(numberPoints))\n",
    "                    listmatrix.append(matrix)\n",
    "\n",
    "                if(aviso==-1):\n",
    "                    print(\"ERROR IN SAT SOLVER\")\n",
    "\n",
    "                matrix_list1 = []\n",
    "                matrix_list2 = []\n",
    "                newList = []\n",
    "    \n",
    "    return listmatrix"
   ]
  },
  {
   "cell_type": "markdown",
   "metadata": {},
   "source": [
    "### Assign Score to solution"
   ]
  },
  {
   "cell_type": "markdown",
   "metadata": {},
   "source": [
    "Score of each solution is given by:\n",
    "\n",
    "\n",
    "$$\\text{score}(n_{aligned},d) = round\\left( \\frac{200 \\times d}{\\binom{M}{2} \\times n_{aligned}} + 400 \\times (5-n_{aligned}) \\right)$$\n",
    "\n",
    "where $M$ is the number of Molecules to align, $n_{aligned}$ is the number of points aligned and $d$ is the sum of distances of the connected points"
   ]
  },
  {
   "cell_type": "code",
   "execution_count": null,
   "metadata": {},
   "outputs": [],
   "source": [
    "def NonZeroAndSum(matrix):\n",
    "    nz=0\n",
    "    s=0\n",
    "    \n",
    "    for idC1, c1 in enumerate(matrix):\n",
    "        for idC2, c2 in enumerate(c1):\n",
    "            if isinstance(c2, (np.ndarray)): #tests if this is an array or not\n",
    "                for idC3, c3 in enumerate(c2):\n",
    "                    if (c3!=0):\n",
    "                        s += c3 \n",
    "                        nz += 1\n",
    "            else:\n",
    "                if (c2!=0):\n",
    "                    s += c2 \n",
    "                    nz += 1\n",
    "\n",
    "    \n",
    "    return [nz,s] #number of non-zeros; sum of all non-zero elements"
   ]
  },
  {
   "cell_type": "code",
   "execution_count": null,
   "metadata": {},
   "outputs": [],
   "source": [
    "def Scores(listMatrix,M):\n",
    "    \n",
    "    scores = []\n",
    "    \n",
    "    for matrix in listMatrix:\n",
    "        naligned, d = NonZeroAndSum(matrix)\n",
    "        if (naligned!=0):\n",
    "            scores.append( int(round( (d*200/(naligned*comb2(M,2))) + (5-naligned)*400 )) )\n",
    "        else:\n",
    "            scores.append(int(2000))\n",
    "    \n",
    "    return scores"
   ]
  },
  {
   "cell_type": "markdown",
   "metadata": {},
   "source": [
    "Auxiliary functions to find correspondence between position in the list and conformations from each molecule."
   ]
  },
  {
   "cell_type": "code",
   "execution_count": null,
   "metadata": {},
   "outputs": [],
   "source": [
    "def which2(number,a):\n",
    "    if(number>=12):\n",
    "        a += 1\n",
    "        return which2(number-12,a)\n",
    "    else:\n",
    "        print(\"Conformation from molecule given as input 1: \",a,\n",
    "              \"\\nConformation from molecule given as input 2: \",number)\n",
    "        return [a, number] \n",
    "\n",
    "def which3(number,a,b):\n",
    "    if (number>=144):\n",
    "        a += 1\n",
    "        return which3(number-144,a,b)\n",
    "    else:\n",
    "        if(number>=12):\n",
    "            b += 1\n",
    "            return which3(number-12,a,b)\n",
    "        else:\n",
    "            print(\"Conformation from molecule given as input 1: \",a,\n",
    "                  \"\\nConformation from molecule given as input 2: \",b,\n",
    "                  \"\\nConformation from molecule given as input 3: \",number)\n",
    "            return [a, b, number]\n",
    "        \n",
    "def whichConfs (number,mol): \n",
    "    #insert position of listmatrix and returns to each conformations that correspond\n",
    "    if(mol==3):\n",
    "        numbers = which3(number,0,0)\n",
    "    if(mol==2):\n",
    "        numbers = which2(number,0)\n",
    "    return numbers"
   ]
  },
  {
   "cell_type": "markdown",
   "metadata": {},
   "source": [
    "## Classic Search\n",
    "\n",
    "Print the solution with the most connections and least sum of the distance of this connections."
   ]
  },
  {
   "cell_type": "code",
   "execution_count": null,
   "metadata": {},
   "outputs": [],
   "source": [
    "def answer (scores):\n",
    "    bestSum = max(scores)+1 #'random' high number\n",
    "    solution = -1\n",
    "    \n",
    "    sols = []\n",
    "    vals = []\n",
    "\n",
    "    for idS, s in enumerate(scores):\n",
    "        if( s < bestSum):\n",
    "            bestSum = s\n",
    "            solution = idS\n",
    "            print(s, idS)\n",
    "    \n",
    "    print(\"------------------\")\n",
    "    print(\"Position of solution:\",solution) #position in array listmatrix/scores\n",
    "    print(\"------------------\")\n",
    "    \n",
    "    return solution, bestSum #position of solution, value of solution"
   ]
  },
  {
   "cell_type": "markdown",
   "metadata": {},
   "source": [
    "# Solutions"
   ]
  },
  {
   "cell_type": "code",
   "execution_count": null,
   "metadata": {},
   "outputs": [],
   "source": [
    "print(\"\\nMolecula 1, 2 e 3\")\n",
    "mol123 = combinations(database[0],database[1],database[2])\n",
    "scores123 = Scores(mol123,3)\n",
    "pos123, value = answer(scores123)\n",
    "whichConfs(pos123,3)"
   ]
  },
  {
   "cell_type": "code",
   "execution_count": null,
   "metadata": {},
   "outputs": [],
   "source": [
    "print(\"\\nMolecula 1 e 2\")\n",
    "mol12 = combinations(database[0],database[1]) \n",
    "scores12 = Scores(mol12,2)\n",
    "pos12, value = answer(scores12)\n",
    "whichConfs(pos12,2)"
   ]
  },
  {
   "cell_type": "code",
   "execution_count": null,
   "metadata": {},
   "outputs": [],
   "source": [
    "print(\"\\nMolecula 1 e 3\")\n",
    "mol13 = combinations(database[0],database[2])\n",
    "scores13 = Scores(mol13,2)\n",
    "pos13, value = answer(scores13)\n",
    "whichConfs(pos13,2)"
   ]
  },
  {
   "cell_type": "code",
   "execution_count": null,
   "metadata": {},
   "outputs": [],
   "source": [
    "print(\"\\nMolecula 2 e 3\")\n",
    "mol23 = combinations(database[1],database[2])\n",
    "scores23 = Scores(mol23,2)\n",
    "pos23, value = answer(scores23)\n",
    "whichConfs(pos23,2)"
   ]
  },
  {
   "cell_type": "markdown",
   "metadata": {},
   "source": [
    "## Store Solution's Matrixes"
   ]
  },
  {
   "cell_type": "code",
   "execution_count": null,
   "metadata": {},
   "outputs": [],
   "source": [
    "with open('mol123.txt', 'w') as f:\n",
    "    f.write(\"Molecules 1, 2 and 3\\n\")\n",
    "    for idx, item in enumerate(mol123):\n",
    "        [a, b, c] = whichConfs(idx,3)\n",
    "        f.write(\"Conformations %s, %s and %s, from respective molecules.\\n\"% (a,b,c))\n",
    "        f.write(\"%s\\n\" % item)\n",
    "f.close()"
   ]
  },
  {
   "cell_type": "code",
   "execution_count": null,
   "metadata": {},
   "outputs": [],
   "source": [
    "with open('mol12.txt', 'w') as f:\n",
    "    f.write(\"Molecules 1 and 2\\n\")\n",
    "    for idx, item in enumerate(mol12):\n",
    "        [a,b] = whichConfs(idx,2)\n",
    "        f.write(\"Conformations %s and %s, from respective molecules.\\n\" % (a, b))\n",
    "        f.write(\"%s\\n\" % item)\n",
    "f.close()"
   ]
  },
  {
   "cell_type": "code",
   "execution_count": null,
   "metadata": {},
   "outputs": [],
   "source": [
    "with open('mol13.txt', 'w') as f:\n",
    "    f.write(\"Molecules 1 and 3\\n\")\n",
    "    for idx, item in enumerate(mol13):\n",
    "        [a,b] = whichConfs(idx,2)\n",
    "        f.write(\"Conformations %s and %s, from respective molecules.\\n\" % (a, b))\n",
    "        f.write(\"%s\\n\" % item)\n",
    "f.close()"
   ]
  },
  {
   "cell_type": "code",
   "execution_count": null,
   "metadata": {},
   "outputs": [],
   "source": [
    "with open('mol23.txt', 'w') as f:\n",
    "    f.write(\"Molecules 2 and 3\\n\")\n",
    "    for idx, item in enumerate(mol23):\n",
    "        [a,b] = whichConfs(idx,2)\n",
    "        f.write(\"Conformations %s and %s, from respective molecules.\\n\" % (a, b))\n",
    "        f.write(\"%s\\n\" % item)\n",
    "f.close()"
   ]
  },
  {
   "cell_type": "markdown",
   "metadata": {},
   "source": [
    "## Store Scores"
   ]
  },
  {
   "cell_type": "code",
   "execution_count": null,
   "metadata": {},
   "outputs": [],
   "source": [
    "with open('scores12.txt', 'w') as f:\n",
    "    for item in scores12:\n",
    "        f.write(\"%s\\n\" % item)\n",
    "f.close()"
   ]
  },
  {
   "cell_type": "code",
   "execution_count": null,
   "metadata": {},
   "outputs": [],
   "source": [
    "with open('scores13.txt', 'w') as f:\n",
    "    for item in scores13:\n",
    "        f.write(\"%s\\n\" % item)\n",
    "f.close()"
   ]
  },
  {
   "cell_type": "code",
   "execution_count": null,
   "metadata": {},
   "outputs": [],
   "source": [
    "with open('scores23.txt', 'w') as f:\n",
    "    for item in scores23:\n",
    "        f.write(\"%s\\n\" % item)\n",
    "f.close()"
   ]
  },
  {
   "cell_type": "code",
   "execution_count": null,
   "metadata": {},
   "outputs": [],
   "source": [
    "with open('scores123.txt', 'w') as f:\n",
    "    for item in scores123:\n",
    "        f.write(\"%s\\n\" % item)\n",
    "f.close()"
   ]
  }
 ],
 "metadata": {
  "kernelspec": {
   "display_name": "Python 3",
   "language": "python",
   "name": "python3"
  },
  "language_info": {
   "codemirror_mode": {
    "name": "ipython",
    "version": 3
   },
   "file_extension": ".py",
   "mimetype": "text/x-python",
   "name": "python",
   "nbconvert_exporter": "python",
   "pygments_lexer": "ipython3",
   "version": "3.6.9"
  }
 },
 "nbformat": 4,
 "nbformat_minor": 2
}
